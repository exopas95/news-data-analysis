{
 "cells": [
  {
   "cell_type": "code",
   "execution_count": 2,
   "metadata": {},
   "outputs": [],
   "source": [
    "import modin.pandas as pd\n",
    "import numpy as np\n",
    "import pickle\n",
    "import re\n",
    "import random\n",
    "import hanja\n",
    "import localSummarizer\n",
    "\n",
    "from sklearn.feature_extraction.text import TfidfVectorizer\n",
    "from konlpy.tag import Kkma\n",
    "from konlpy.utils import pprint"
   ]
  },
  {
   "cell_type": "code",
   "execution_count": 3,
   "metadata": {},
   "outputs": [],
   "source": [
    "def df1pre(text):\n",
    "    # 불필요한 문자 제거 및 대체\n",
    "    punct = {'…':'...',\n",
    "            '“':'\"', '”':'\"',\n",
    "            \"‘\":\"'\", \"’\":\"'\",\n",
    "            \"‘\":\"'\", \"’\":\"'\",\n",
    "            '\\t':'', '\\n':'', '\\r':' ',\n",
    "            '/':'',\n",
    "            '▲':'', '■':'', '●':'', '○':'',\n",
    "            '(사진)':'', '동영상 뉴스':''}\n",
    "    for p in punct:\n",
    "        text = text.replace(p, punct[p])\n",
    "\n",
    "    # 한자어 변환\n",
    "    text = hanja.translate(text, 'substitution')\n",
    "\n",
    "    # 기사와 무관한 내용 제거\n",
    "    text = text.rsplit('기자', 1)[0]\n",
    "    text = text.rsplit('@', 1)[0]\n",
    "    text = text.rsplit('.', 1)[0]+'.'\n",
    "    text = text.split('▶')[0]\n",
    "    text = text.split('☞')[0]\n",
    "    text = text.split('[MBN')[0]\n",
    "    text = text.split('[')[0]\n",
    "\n",
    "    return text\n",
    "\n",
    "def df2pre(text):\n",
    "    # 불필요한 문자 제거 및 대체\n",
    "    punct = {'…':'...',\n",
    "            '“':'\"', '”':'\"',\n",
    "            \"‘\":\"'\", \"’\":\"'\",\n",
    "            \"‘\":\"'\", \"’\":\"'\",\n",
    "            '\\t':'', '\\n':'', '\\r':' ',\n",
    "            '/':'',\n",
    "            '▲':'', '■':'', '●':'', '○':'',\n",
    "            '(사진)':''}\n",
    "    for p in punct:\n",
    "        text = text.replace(p, punct[p])\n",
    "\n",
    "\n",
    "    # 한자어 변환\n",
    "    text = hanja.translate(text, 'substitution')\n",
    "\n",
    "    # 기사와 무관한 내용 제거\n",
    "    text = text.rsplit('기자', 1)[0]\n",
    "    text = text.rsplit('.', 1)[0]+'.'\n",
    "\n",
    "    return text\n",
    "\n",
    "def df3pre(text):\n",
    "    # 불필요한 문자 제거 및 대체\n",
    "    punct = {'…':'...',\n",
    "           '“':'\"', '”':'\"',\n",
    "           \"‘\":\"'\", \"’\":\"'\",\n",
    "           \"‘\":\"'\", \"’\":\"'\",\n",
    "           '\\t':'', '\\n':'', '\\r':' ',\n",
    "           '/':'',\n",
    "           '▲':'', '■':'', '●':'', '○':'',\n",
    "           '(사진)':'', '동영상 뉴스':''}\n",
    "    for p in punct:\n",
    "        text = text.replace(p, punct[p])\n",
    "\n",
    "    # 한자어 변환\n",
    "    text = hanja.translate(text, 'substitution')\n",
    "\n",
    "    # 기사와 무관한 내용 제거\n",
    "    text = text.rsplit('(영상', 1)[0]\n",
    "    text = text.rsplit('@', 1)[0]\n",
    "    text = text.rsplit('.', 1)[0]+'.'\n",
    "    text = text.split('▶')[0]\n",
    "    text = text.split('ⓒ')[0]\n",
    "    text = text.rsplit('꿈을 담는 캔버스 채널A', 1)[0]\n",
    "\n",
    "    return text\n"
   ]
  },
  {
   "cell_type": "code",
   "execution_count": 4,
   "metadata": {},
   "outputs": [
    {
     "name": "stderr",
     "output_type": "stream",
     "text": [
      "SettingWithCopyWarning: \n",
      "A value is trying to be set on a copy of a slice from a DataFrame\n",
      "\n",
      "See the caveats in the documentation: https://pandas.pydata.org/pandas-docs/stable/user_guide/indexing.html#returning-a-view-versus-a-copy\n",
      "SettingWithCopyWarning: \n",
      "A value is trying to be set on a copy of a slice from a DataFrame\n",
      "\n",
      "See the caveats in the documentation: https://pandas.pydata.org/pandas-docs/stable/user_guide/indexing.html#returning-a-view-versus-a-copy\n",
      "SettingWithCopyWarning: \n",
      "A value is trying to be set on a copy of a slice from a DataFrame\n",
      "\n",
      "See the caveats in the documentation: https://pandas.pydata.org/pandas-docs/stable/user_guide/indexing.html#returning-a-view-versus-a-copy\n",
      "SettingWithCopyWarning: \n",
      "A value is trying to be set on a copy of a slice from a DataFrame\n",
      "\n",
      "See the caveats in the documentation: https://pandas.pydata.org/pandas-docs/stable/user_guide/indexing.html#returning-a-view-versus-a-copy\n"
     ]
    }
   ],
   "source": [
    "# print 해볼 때 전체 다 띄워보려고 쓰는 옵션\n",
    "pd.set_option('display.max_columns', None)\n",
    "pd.set_option('display.max_rows', 100)\n",
    "pd.set_option('display.max_colwidth', None)\n",
    "\n",
    "with open(\"data/naverNewsData.pickle\",'rb') as f:\n",
    "    raw = pickle.load(f)\n",
    "\n",
    "raw['date'] = pd.to_datetime(raw['date'])\n",
    "\n",
    "# 과거 데이터의 경우 양식이 굉장히 다름\n",
    "data = raw[raw['date']>='2017-01-01'].copy()\n",
    "\n",
    "df1 = data[(data['pressName']!='MBC') &\n",
    "            (data['pressName']!='채널A') &\n",
    "            (data['pressName']!='JTBC')&\n",
    "            (data['pressName']!='연합뉴스TV')&\n",
    "            (data['pressName']!='YTN')].copy()\n",
    "\n",
    "df1.reset_index(drop=True, inplace=True)\n",
    "df1['revisedArticle'] = 0\n",
    "\n",
    "for i in range(len(df1)):\n",
    "    text = df1['article'][i]\n",
    "    df1['revisedArticle'][i] = df1pre(text)\n",
    "\n",
    "#### df2\n",
    "df2=data[(data['pressName']=='MBC')].copy()\n",
    "df2.reset_index(drop=True, inplace=True)\n",
    "df2['revisedArticle']=0\n",
    "\n",
    "for i in range(len(df2)):\n",
    "    text = df2['article'][i]\n",
    "    df2['revisedArticle'][i] = df2pre(text)\n",
    "\n",
    "#### df3\n",
    "df3 = data[(data['pressName']=='채널A')|\n",
    "            (data['pressName']=='JTBC')|\n",
    "            (data['pressName']=='연합뉴스TV')|\n",
    "            (data['pressName']=='YTN')].copy()\n",
    "df3.reset_index(drop=True, inplace=True)\n",
    "df3['revisedArticle']=0\n",
    "\n",
    "for i in range(len(df3)):\n",
    "    text = df3['article'][i]\n",
    "    df3['revisedArticle'][i] = df3pre(text)"
   ]
  },
  {
   "cell_type": "code",
   "execution_count": 5,
   "metadata": {},
   "outputs": [
    {
     "name": "stderr",
     "output_type": "stream",
     "text": [
      "UserWarning: Ray execution environment not yet initialized. Initializing...\n",
      "To remove this warning, run the following python code before doing dataframe operations:\n",
      "\n",
      "    import ray\n",
      "    ray.init()\n",
      "\n",
      "UserWarning: Distributing <class 'pandas.core.frame.DataFrame'> object. This may take some time.\n"
     ]
    }
   ],
   "source": [
    "revised_v1 = pd.concat([df1.drop(columns=['article']), df2.drop(columns=['article'])])\n",
    "revised_v2 = pd.concat([revised_v1, df3.drop(columns=['article'])])"
   ]
  },
  {
   "cell_type": "code",
   "execution_count": 6,
   "metadata": {},
   "outputs": [
    {
     "data": {
      "text/html": [
       "<div>\n",
       "<style scoped>\n",
       "    .dataframe tbody tr th:only-of-type {\n",
       "        vertical-align: middle;\n",
       "    }\n",
       "\n",
       "    .dataframe tbody tr th {\n",
       "        vertical-align: top;\n",
       "    }\n",
       "\n",
       "    .dataframe thead th {\n",
       "        text-align: right;\n",
       "    }\n",
       "</style>\n",
       "<table border=\"1\" class=\"dataframe\">\n",
       "  <thead>\n",
       "    <tr style=\"text-align: right;\">\n",
       "      <th></th>\n",
       "      <th>pressName</th>\n",
       "      <th>ceoName</th>\n",
       "      <th>newsTitle</th>\n",
       "      <th>url</th>\n",
       "      <th>date</th>\n",
       "      <th>revisedArticle</th>\n",
       "    </tr>\n",
       "  </thead>\n",
       "  <tbody>\n",
       "    <tr>\n",
       "      <th>0</th>\n",
       "      <td>조선일보</td>\n",
       "      <td>서경배</td>\n",
       "      <td>올해 기업 총수 주식 성적표를 공개합니다, 1등은?</td>\n",
       "      <td>https://news.naver.com/main/read.nhn?mode=LSD&amp;mid=sec&amp;sid1=101&amp;oid=023&amp;aid=0003581759</td>\n",
       "      <td>2020-12-08</td>\n",
       "      <td>국내 50대 그룹 총수 주식재산 증감액 한국CXO연구소국내 50대 그룹 총수 중 올 1월 초 대비 12월 초 기준 주식재산 상승률이 가장 컸던 주인공은 카카오 김범수 이사회 의장인 것으로 파악됐다. 기업분석 전문 한국CXO연구소는 8일 '국내 50대 그룹 총수의 2020년 1월 초 대비 12월 초 주식재산 증감 현황 분석' 결과를 발표했다. 조사 대상은 공정거래위원회가 자산 5조 원 이상 대기업 집단(그룹)으로 지정한 64곳 중 동일인(총수)이 있는 50대 그룹이다. 조사 대상에는 고(고) 삼성전자 이건희 전 회장과 현대차 정의선 회장 등 2명을 포함해 총 52명이다.이번 조사는 총수가 직접 주식을 보유한 상장사 보통주 주식으로 제한했고, 우선주는 조사에서 제외했다. 주식평가액은 올 1월 2일과 12월 2일 종가(종가)로 계산해 산출했다. 조사 결과에 의하면 52명의 그룹 총수 중 39명이 상장사 주식을 보유하고 있는 것으로 파악됐다. 39명의 총수의 올 1월 2일 기준 전체 주식평가액은 57조 6150억 원이었는데, 12월 2일에는 67조 1913억 원으로 9조 5695억 원(16.6%) 증가했다. 그룹 총수 20명은 1년 새 주식재산을 불렸다.주식평가액 증감 금액으로 살펴봤을 때 연초 대비 12월 초에 지분가치가 가장 크게 증가한 주인공은 삼성전자 이건희 전 회장이었다. 이 전 회장은 올 초만 해도 주식재산이 17조 3800억 원이었는데 12월 초에는 21조 397억 원으로, 3조 6597억 원(21.1%) 높아졌다.김범수 카카오 의장카카오카카오 김범수 의장도 1조 9068억 원에서 4조 6627억 원으로 2조 7560억 원이나 주식평가액이 상승했다. 1월 초 대비 12월 초 주식평가액 상승률로만 놓고 보면 김범수 의장이 144.5%로 50대 그룹 총수 중 1위다.현대차 정의선 회장도 올해 들어 주식재산이 1조 넘게 많아졌다. 2조 2268억 원에서 3조 2920억 원으로 1조 651억 원(47.8%) 증가한 것으로 집계됐다. 한국CXO연구소는 \"현대차 정 회장은 코로나19가 한창이던 상황에서 현대차와 현대모비스 주식을 꾸준히 매입해둔 것이 주식재산 증가에도 톡톡히 효과를 봤다\"고 설명했다. 삼성전자 이재용 부회장은 9351억 원, 현대차 정몽구 명예회장은 8507억 원 늘었다.반면 아모레퍼시픽 서경배 회장은 코로나19 영향으로 주식재산이 1조 3000억 원 넘게 줄었다. 서 회장의 주식가치는 1월 초 4조 9976억 원에서 12월 초 3조 6352억 원으로 1조 3624억 원(-27.3%) 하락했다. SK 최태원 회장의 주식가치도 2716억 원(3조 3483억 원→3조 767억 원) 이상 감소했다. 신세계 이명희 회장과 한국테크놀로지그룹 조양래 회장은 올해 주식을 자녀에게 상속하다 보니 주식평가액 규모도 이전보다 40% 넘게 축소됐다.올 12월 초 기준으로 주식재산 1조 클럽에 가입한 50대 그룹 총수는 13명으로 조사됐다. 삼성전자 이건희 전 회장이 21조 원 이상으로 국내 주식부자 1위 자리를 지켰다. 삼성전자 이재용 부회장은 8조 2000억 원 이상으로 넘버2를 차지했다. 이어 3위 현대차 정몽구 명예회장, 4위 카카오 김범수 의장, 5위 아모레퍼시픽 서경배 회장 순으로 나타났다. 6~10위에는 각각 현대차 정의선 회장, SK 최태원 회장, 넷마블 방준혁 의장(2조 6015억 원), 셀트리온 서정진 회장, LG 구광모 회장(2조 180억 원)이 자리했다. 네이버 이해진 글로벌투자책임자(1조 7378억 원), 현대중공업 정몽준 아산재단 이사장(1조 1808억 원), CJ 이재현 회장(1조 695억 원)도 주식재산 1조 클럽에 가입했다.총수 보유 주식 상승 현황 한국CXO연구소이중 카카오 김범수 의장은 비상장 회사 지분 가치까지 합산할 경우 비공식적으로 주식부자 랭킹 2위까지 올라서는 것으로 파악됐다. 김범수 의장은 12월 초 기준 카카오 주식을 1250만 주 넘게 갖고 있는데 이 가치만 해도 4조 6000억 원 넘었다. 비상장사인 '케이큐브홀딩스'도 카카오 지분을 3조 7000억 원 상당 수준으로 보유 중이다. 케이큐브홀딩스는 김범수 의장이 지분을 100% 소유하고 있는 회사다. 케이큐브홀딩스가 보유한 카카오 주식가치까지 김 의장의 주식재산으로 합쳐 계산할 경우 8조 3701억 원으로 크게 높아진다. 이재용 부회장의 주식재산을 제치고 주식부자 넘버2 자리에 올라설 수 있는 수준이다.주가상승률 1,2위는 모두 두산 박정원 회장이 보유한 주식종목에서 나왔다. 두산퓨얼셀은 올 1월 2일만 해도 보통주 1주당 종가가 8800원이었는데 12월 2일에는 4만 6400원으로 427.3%나 고공 상승했다. 두산중공업도 162.7%(5730원→1만 5050원) 점프했다. 이어 SK디스커버리(152.7%), 셀트리온헬스케어(147.9%), 카카오(144.6%), 두산솔루스(139.7%), 효성중공업(133.1%), 코오롱글로벌(110.8%), 키다리스튜디오(103.7%) 주가가 1년 새 갑절 높아졌다. 이번 조사와 관련해 오일선 소장은 \"내년에는 그동안 이건희 회장이 지켜오던 주식부자 1위 자리를 이재용 부회장이 이어받을 것으로 예상됨에 따라 국내 주식부자 2~3위 자리를 놓고 그룹 총수 간 보이지 않는 치열한 경쟁이 예상된다\"고 말했다.</td>\n",
       "    </tr>\n",
       "    <tr>\n",
       "      <th>1</th>\n",
       "      <td>조선일보</td>\n",
       "      <td>서경배</td>\n",
       "      <td>아모레퍼시픽G 대표에 김승환</td>\n",
       "      <td>https://news.naver.com/main/read.nhn?mode=LSD&amp;mid=sec&amp;sid1=101&amp;oid=023&amp;aid=0003575822</td>\n",
       "      <td>2020-11-13</td>\n",
       "      <td>㈜아모레퍼시픽그룹은 12일 김승환 인사조직실장(전무)을 대표이사 부사장에 선임했다. 김 부사장은 서경배 회장과 각자 대표이사를 맡는다.</td>\n",
       "    </tr>\n",
       "    <tr>\n",
       "      <th>2</th>\n",
       "      <td>조선일보</td>\n",
       "      <td>서경배</td>\n",
       "      <td>코로나 직격탄 아모레, 51세 대표이사 파격 발탁</td>\n",
       "      <td>https://news.naver.com/main/read.nhn?mode=LSD&amp;mid=sec&amp;sid1=101&amp;oid=023&amp;aid=0003575696</td>\n",
       "      <td>2020-11-12</td>\n",
       "      <td>아모레퍼시픽그룹 김승환 대표이사아모레퍼시픽그룹이 지주회사 대표이사에 50대 초반의 인사를 임명하고, 핵심 보직에 1970년생들을 대거 발탁하는 인사를 단행했다. 코로나로 영업이익이 반토막 나자, 세대 교체 카드를 꺼낸 것이다.아모레퍼시픽그룹은 12일 그룹 인사조직 실장 겸 아모레퍼시픽 인사조직 유닛장인 김승환(51) 전무를 아모레퍼시픽그룹 대표이사(부사장)에 내정했다고 밝혔다. 전임 배동현 대표(65)보다 14세 젊다. 서경배 회장과 각자 대표이사를 맡게 된 김 신임 대표는 2006년 아모레퍼시픽에 입사해 경영전략팀장, 아모레퍼시픽그룹 전략기획 디비전장, 그룹 인사조직 실장등을 거쳤다. 아모레퍼시픽 기술연구원 R&amp;D 유닛장은 박영호(52) 상무가 전무로 승진하며 임명됐다.화장품 부문 주요 브랜드 책임자에는 1970년대생이 대거 발탁됐다. ㈜아모레퍼시픽의 라네즈 브랜드 유닛장에는 정혜진(45) 전무, 설화수 브랜드 유닛장에는 임중식(49) 상무가 발탁됐다. 중국 사업을 책임지는 ㈜아모레퍼시픽 중국 RHQ 부GM실장응 황영민(47) 상무가 맡는다.아모레퍼시픽 관계자는 \"사업 경쟁력을 제고하고, 위기를 타개해 재도약의 발판을 마련하기 위해 세대교체를 단행했다\"고 밝혔다.아모레퍼시픽그룹은 코로나 여파로 지난 3분기 매출은 1조 2086억원, 영업이익은 610억원을 기록했다. 지난해 같은 기간 대비 매출은 23%, 영업이익은 49% 감소했다.</td>\n",
       "    </tr>\n",
       "    <tr>\n",
       "      <th>3</th>\n",
       "      <td>조선일보</td>\n",
       "      <td>서경배</td>\n",
       "      <td>옵티머스 사태 연루된 靑 前행정관, 국감 불출석 사유서 늑장 공유한 與</td>\n",
       "      <td>https://news.naver.com/main/read.nhn?mode=LSD&amp;mid=sec&amp;sid1=100&amp;oid=023&amp;aid=0003570435</td>\n",
       "      <td>2020-10-22</td>\n",
       "      <td>야 항의에 하루 뒤 팩스로 보내... 전행정관 \"임신중이라 출석 못해\"13일 오전 서울 강남구 옵티머스자산운용 사무실의 문이 닫혀있다. 국정감사에서 옵티머스 투자 로비 의혹에 대한 여야의 공방이 가열되고 있다. 연합뉴스여당이 '옵티머스 사태'에 연루된 이모 전 청와대 행정관의 국정감사 증인 불출석 사유서를 당일 야당에 공유하지 않다가 하루 뒤인 21일 오후에서야 제공한 것으로 알려졌다. 통상 국감 증인으로 채택된 이들의 불출석 사유서는 해당 상임위원들에게 국감이 열리기 사흘 전 공유되는데 국감(23일) 이틀 전 뒤늦게 사유서를 공유한 것이다.국민의힘 등에 따르면 이 전 행정관은 지난 20일 국회 정무위에 불출석 사유서를 제출했다. 지난 13일 국회 정무위원회가 그를 오는 23일 국감 증인으로 채택하자 국감장에 나갈 수 없다고 한 것이다.이 전 행정관은 불출석 사유서에서 \"남편(윤석호 옵티머스 이사·구속 기소)이 일부 관여된 사건으로 심려를 끼친 점에 대해 깊은 사죄를 드린다\"며 \"사건으로 피해를 입은 분들께도 진심으로 죄송하다\"고 했다. 그는 불출석 이유에 대해 \"각종 의혹에 대해 검찰 수사가 진행 중인 점을 고려해 출석할 수 없다\"고 했다. 또 \"아빠가 외국에 나가 일하고 있는 줄 아는 아직 어린 자녀의 일상을 지켜주기 위해 지방에 내려와 생활하고 있다\"며 \"아이를 혼자 남겨두고 왕복 6시간 걸리는 국감에 출석하는 것이 매우 곤란하다\"고 했다. 그는 \"현재 임신 중인 상태라 태아의 안전, 건강을 위해서라도 출석이 불가능하다\"며 진단서를 첨부했다. 그는 현재 임신 17주 차인 것으로 알려졌다.더불어민주당 윤관석 정무위원장은 사유서가 접수된 당일 접수 관련 결재를 했다고 한다. 위원장 결재 직후엔 위원들에게 사유서를 주는 게 관례이다. 국민의힘 측은 \"위원장 결재까지 마쳤는데도, 불출석 사유서를 주지 않아 정무위 행정실을 찾아갔다\"며 \"행정실은 '민감한 개인 정보가 있어 사유서를 주지 말라는 윤 위원장 지시가 있었다'고 하더라\"고 했다.이를 두고 야당에서 강하게 항의하자 정무위 행정실은 뒤늦게 국민의힘 측에 팩스로 사유서를 보냈다고 한다. 앞서 정무위는 국감 불출석 사유서와 정형외과에서 받은 고열·근육통 진단서를 제출한 서경배 아모레퍼시픽 회장의 사유서는 제출 직후 각 위원에게 공유했었다.이에 대해 윤관석 의원실은 \"다른 증인 불출석 사유서도 들어온 데다 20일 저녁 회의 늦게 끝나고 결재를 했다\"며 \"다음날 구두로 국민의힘 간사 의원실에 사유서 내용을 다 알려줬다\"고 했다. 또 \"이 전 행정관의 휴대전화 번호와 병명 관련 첨부 자료 등 민감한 정보가 너무 많았다\"며 \"그래도 윤 위원장은 정무위 행정실에 사정을 국민의힘 측에 사유서 내용과 사정을 모두 설명하라고 지시까지 했다. 야당은 사유서 내용을 모두 알고 있었다\"고 했다. 그러면서 \"사유서도 국민의힘 간사 의원실에 보내줬다\"며 \"야당이 이를 문제삼는 것은 납득하기 어렵다\"고 했다.</td>\n",
       "    </tr>\n",
       "    <tr>\n",
       "      <th>4</th>\n",
       "      <td>조선일보</td>\n",
       "      <td>서경배</td>\n",
       "      <td>[단독]아모레 서경배 회장 장녀 민정씨 19일 결혼한다</td>\n",
       "      <td>https://news.naver.com/main/read.nhn?mode=LSD&amp;mid=sec&amp;sid1=101&amp;oid=023&amp;aid=0003569434</td>\n",
       "      <td>2020-10-18</td>\n",
       "      <td>아모레퍼시픽 서경배 회장의 큰딸 민정(29)씨가 지난 6월 홍석준 보광창업투자 회장의 장남 홍정환(35)씨와 약혼한 데 이어 19일 결혼식을 올린다. 결혼식 장소는 약혼식과 마찬가지로 서울 장충동 신라호텔인 것으로 알려졌다.아모레퍼시픽 서경배 회장의 큰 딸 민정씨. 아모레퍼시픽서민정씨는 미국 코넬대 경제학과를 졸업하고, 글로벌 컨설팅 회사 베인앤컴퍼니에서 일했다. 2017년 아모레퍼시픽에 경력사원으로 입사해 일하다 중국에서 경영학석사 과정을 마쳤다. 지난해 10월 아모레퍼시픽에 재입사한 서씨는 현재 아모레퍼시픽 뷰티영업전략팀 과장으로 일하고 있다. 서씨는 아버지 서경배 회장에 이어 아모레퍼시픽그룹 2대 주주이기도 하다. 홍정환씨는 보광창투에서 투자심사를 총괄하고 있는 것으로 알려졌다. 둘은 올해 초 지인 소개로 만났다고 한다.두 사람의 결혼식에 삼성가(가)가 총출동하는지도 관심사다. 지난 6월 두 사람의 약혼식에는 이건희 삼성전자 회장의 부인인 홍라희 전 리움미술관장을 비롯해 이부진 호텔신라 사장, 이서현 삼성복지재단 이사장 등이 참석했다. 이부진, 서현 자매는 홍정환씨와 고종사촌 관계다. 이재용 삼성전자 부회장은 참석하지 않았다. 이 부회장은 결혼식이 열리는 이날 베트남 출장이 예정돼 있다. 홍석현 전 중앙일보 회장 장남인 홍정도 중앙일보 발행인, 홍석조 BGF리테일 회장 등도 약혼식장을 찾았다. 당시 약혼식장 주변에는 경호원 30여명이 배치되기도 했다.</td>\n",
       "    </tr>\n",
       "  </tbody>\n",
       "</table>\n",
       "</div>"
      ],
      "text/plain": [
       "  pressName ceoName       date  \\\n",
       "0      조선일보     서경배 2020-12-08   \n",
       "1      조선일보     서경배 2020-11-13   \n",
       "2      조선일보     서경배 2020-11-12   \n",
       "3      조선일보     서경배 2020-10-22   \n",
       "4      조선일보     서경배 2020-10-18   \n",
       "\n",
       "[5 rows x 6 columns]"
      ]
     },
     "execution_count": 6,
     "metadata": {},
     "output_type": "execute_result"
    }
   ],
   "source": [
    "revised_v2.head()"
   ]
  },
  {
   "cell_type": "code",
   "execution_count": 7,
   "metadata": {},
   "outputs": [],
   "source": [
    "import pandas as pd\n",
    "import numpy as np\n",
    "from typing import List\n",
    "from textrankr import TextRank\n",
    "from konlpy.tag import Okt\n",
    "\n",
    "class OktTokenizer:\n",
    "    okt: Okt = Okt()\n",
    "\n",
    "    def __call__(self, text: str) -> List[str]:\n",
    "        tokens: List[str] = self.okt.pos(text, norm=True, stem=True, join=True)\n",
    "        return tokens"
   ]
  },
  {
   "cell_type": "code",
   "execution_count": 8,
   "metadata": {},
   "outputs": [],
   "source": [
    "content_list = revised_v2.revisedArticle\n",
    "\n",
    "mytokenizer: OktTokenizer = OktTokenizer()\n",
    "textrank: TextRank = TextRank(mytokenizer)\n",
    "\n",
    "k: int = 3  # num sentences in the resulting summary\n",
    "result_list = []"
   ]
  },
  {
   "cell_type": "code",
   "execution_count": 11,
   "metadata": {},
   "outputs": [
    {
     "data": {
      "text/plain": [
       "0    국내 50대 그룹 총수 주식재산 증감액 한국CXO연구소국내 50대 그룹 총수 중 올 1월 초 대비 12월 초 기준 주식재산 상승률이 가장 컸던 주인공은 카카오 김범수 이사회 의장인 것으로 파악됐다. 기업분석 전문 한국CXO연구소는 8일 '국내 50대 그룹 총수의 2020년 1월 초 대비 12월 초 주식재산 증감 현황 분석' 결과를 발표했다. 조사 대상은 공정거래위원회가 자산 5조 원 이상 대기업 집단(그룹)으로 지정한 64곳 중 동일인(총수)이 있는 50대 그룹이다. 조사 대상에는 고(고) 삼성전자 이건희 전 회장과 현대차 정의선 회장 등 2명을 포함해 총 52명이다.이번 조사는 총수가 직접 주식을 보유한 상장사 보통주 주식으로 제한했고, 우선주는 조사에서 제외했다. 주식평가액은 올 1월 2일과 12월 2일 종가(종가)로 계산해 산출했다. 조사 결과에 의하면 52명의 그룹 총수 중 39명이 상장사 주식을 보유하고 있는 것으로 파악됐다. 39명의 총수의 올 1월 2일 기준 전체 주식평가액은 57조 6150억 원이었는데, 12월 2일에는 67조 1913억 원으로 9조 5695억 원(16.6%) 증가했다. 그룹 총수 20명은 1년 새 주식재산을 불렸다.주식평가액 증감 금액으로 살펴봤을 때 연초 대비 12월 초에 지분가치가 가장 크게 증가한 주인공은 삼성전자 이건희 전 회장이었다. 이 전 회장은 올 초만 해도 주식재산이 17조 3800억 원이었는데 12월 초에는 21조 397억 원으로, 3조 6597억 원(21.1%) 높아졌다.김범수 카카오 의장카카오카카오 김범수 의장도 1조 9068억 원에서 4조 6627억 원으로 2조 7560억 원이나 주식평가액이 상승했다. 1월 초 대비 12월 초 주식평가액 상승률로만 놓고 보면 김범수 의장이 144.5%로 50대 그룹 총수 중 1위다.현대차 정의선 회장도 올해 들어 주식재산이 1조 넘게 많아졌다. 2조 2268억 원에서 3조 2920억 원으로 1조 651억 원(47.8%) 증가한 것으로 집계됐다. 한국CXO연구소는 \"현대차 정 회장은 코로나19가 한창이던 상황에서 현대차와 현대모비스 주식을 꾸준히 매입해둔 것이 주식재산 증가에도 톡톡히 효과를 봤다\"고 설명했다. 삼성전자 이재용 부회장은 9351억 원, 현대차 정몽구 명예회장은 8507억 원 늘었다.반면 아모레퍼시픽 서경배 회장은 코로나19 영향으로 주식재산이 1조 3000억 원 넘게 줄었다. 서 회장의 주식가치는 1월 초 4조 9976억 원에서 12월 초 3조 6352억 원으로 1조 3624억 원(-27.3%) 하락했다. SK 최태원 회장의 주식가치도 2716억 원(3조 3483억 원→3조 767억 원) 이상 감소했다. 신세계 이명희 회장과 한국테크놀로지그룹 조양래 회장은 올해 주식을 자녀에게 상속하다 보니 주식평가액 규모도 이전보다 40% 넘게 축소됐다.올 12월 초 기준으로 주식재산 1조 클럽에 가입한 50대 그룹 총수는 13명으로 조사됐다. 삼성전자 이건희 전 회장이 21조 원 이상으로 국내 주식부자 1위 자리를 지켰다. 삼성전자 이재용 부회장은 8조 2000억 원 이상으로 넘버2를 차지했다. 이어 3위 현대차 정몽구 명예회장, 4위 카카오 김범수 의장, 5위 아모레퍼시픽 서경배 회장 순으로 나타났다. 6~10위에는 각각 현대차 정의선 회장, SK 최태원 회장, 넷마블 방준혁 의장(2조 6015억 원), 셀트리온 서정진 회장, LG 구광모 회장(2조 180억 원)이 자리했다. 네이버 이해진 글로벌투자책임자(1조 7378억 원), 현대중공업 정몽준 아산재단 이사장(1조 1808억 원), CJ 이재현 회장(1조 695억 원)도 주식재산 1조 클럽에 가입했다.총수 보유 주식 상승 현황 한국CXO연구소이중 카카오 김범수 의장은 비상장 회사 지분 가치까지 합산할 경우 비공식적으로 주식부자 랭킹 2위까지 올라서는 것으로 파악됐다. 김범수 의장은 12월 초 기준 카카오 주식을 1250만 주 넘게 갖고 있는데 이 가치만 해도 4조 6000억 원 넘었다. 비상장사인 '케이큐브홀딩스'도 카카오 지분을 3조 7000억 원 상당 수준으로 보유 중이다. 케이큐브홀딩스는 김범수 의장이 지분을 100% 소유하고 있는 회사다. 케이큐브홀딩스가 보유한 카카오 주식가치까지 김 의장의 주식재산으로 합쳐 계산할 경우 8조 3701억 원으로 크게 높아진다. 이재용 부회장의 주식재산을 제치고 주식부자 넘버2 자리에 올라설 수 있는 수준이다.주가상승률 1,2위는 모두 두산 박정원 회장이 보유한 주식종목에서 나왔다. 두산퓨얼셀은 올 1월 2일만 해도 보통주 1주당 종가가 8800원이었는데 12월 2일에는 4만 6400원으로 427.3%나 고공 상승했다. 두산중공업도 162.7%(5730원→1만 5050원) 점프했다. 이어 SK디스커버리(152.7%), 셀트리온헬스케어(147.9%), 카카오(144.6%), 두산솔루스(139.7%), 효성중공업(133.1%), 코오롱글로벌(110.8%), 키다리스튜디오(103.7%) 주가가 1년 새 갑절 높아졌다. 이번 조사와 관련해 오일선 소장은 \"내년에는 그동안 이건희 회장이 지켜오던 주식부자 1위 자리를 이재용 부회장이 이어받을 것으로 예상됨에 따라 국내 주식부자 2~3위 자리를 놓고 그룹 총수 간 보이지 않는 치열한 경쟁이 예상된다\"고 말했다.\n",
       "0                                                                                                                                                                                                                                                                                                                                                                                                                                                                                                                                                                                                                                                                                                                                                                                                                                                                                                                                                                                                                                                                                                                                                                                                                                                                                                                                                                                                                                                                                                                                                                                                                                                                                                                                                                                                                                                                                                                                                                                                                                                                                                                                                                                                                                                                                                                                                                                신세계그룹 이명희 회장 소유의 서울 용산구 주택 내년도 공시가가 올해 대비 6.6% 올라 300억 원에 육박할 것으로 평가됐습니다.부동산 공시가격 알리미 사이트에 따르면 이명희 회장의 용산구 한남동 주택의 내년도 공시가격은 295억3천만원으로, 표준단독주택중 공시가격 1위를 기록했습니다.서경배 아모레퍼시픽 회장이 소유한 이태원동 주택의 공시가격도 173억8천만원으로 3.6% 올랐습니다.공시가격 현실화를 목표로 공시가격을 인상한 국토부는 내년도 공시가격 시세 15억원 이상 고가주택의 평균 인상률은 11.58%라고 밝혔습니다.\n",
       "0                                                                                                                                                                                                                                                                                                                                                                                                                                                                                                                                                                                                                                                                                                                                                                                                                                                                                                                                                                                                                                                                                                                                                                                                                                                                                                                                                                                                                                                                                                                                                                                                                                                                                                                                                                                                                                  코로나19가 국내 주식 시장에도 지각 변동을 가져왔습니다.  주식 부호 순위가 급변했는데, 누가 코로나 이슈로 수혜를 봤는지 박정서 기자가 취재했습니다  급변했습니다. [리포트]코로나19 치료제 등을 개발에 나서며 바이오 열풍을 탄 셀트리온 서정진 회장이 국내 주식 부자 3위에 이름을 올렸습니다. 지난 14일 기준 서 회장의 주식 가치가 5조 6000억 원을 웃돌면서 순위가 4계단 껑충 뛴 겁니다.4위는 지난해 말보다 순위가 6계단이나 오른 김범수 카카오 의장이 차지했습니다.  주식 평가액은 약 4조5000억 원으로 136% 불어났습니다.  이건희 삼성전자 회장과 이재용 삼성전자 부회장이 부동의 1, 2위를 차지한데 이어 3·4위에 새로운 얼굴이 등장한 겁니다. 국내 1위 메신저 앱을 보유한 카카오는 코로나19 확산으로 비대면 소비가 급증하면서 폭발적 성장세를 보였습니다.  비대면 업종인 게임업계도 상승장에 올라탔습니다. 게임업체 넷마블 방준혁 이사회 의장은 주식 재산이 지난해보다 57% 늘어나면서 주식 부자 10위 안에 이름을 올렸습니다. 반면, 기존 상위권 대주주들은 다소 부진한 성적을 보였습니다. 코로나19로 실적에 직격탄을 맞은 아모레퍼시픽그룹 서경배 회장을 비롯해 최태원 SK그룹 회장, 정몽구 현대차그룹 회장은 순위가 밀려났습니다. [윤지호  이베스트 투자증권 리서치센터장] \"가장 큰 변화는 결국 우리가 외부 활동을 줄이고 플랫폼 기업에 대한 의존도가 높아졌다는 데 있습니다. 기존과 다른 기업가치의 재조명이 이뤄지고 있습니다.\"  코로나19 확산세가 길어지는 가운데 주식 시장의 지각 변동은 계속될 전망입니다.  채널A 뉴스 박정서입니다.\n",
       "Name: revisedArticle, dtype: object"
      ]
     },
     "execution_count": 11,
     "metadata": {},
     "output_type": "execute_result"
    }
   ],
   "source": [
    "revised_v2.revisedArticle[0]"
   ]
  },
  {
   "cell_type": "code",
   "execution_count": 12,
   "metadata": {},
   "outputs": [
    {
     "ename": "TypeError",
     "evalue": "expected string or bytes-like object",
     "output_type": "error",
     "traceback": [
      "\u001b[0;31m---------------------------------------------------------------------------\u001b[0m",
      "\u001b[0;31mTypeError\u001b[0m                                 Traceback (most recent call last)",
      "\u001b[0;32m<ipython-input-12-ecb9c1ae1535>\u001b[0m in \u001b[0;36m<module>\u001b[0;34m\u001b[0m\n\u001b[0;32m----> 1\u001b[0;31m \u001b[0msummaries\u001b[0m\u001b[0;34m:\u001b[0m \u001b[0mList\u001b[0m\u001b[0;34m[\u001b[0m\u001b[0mstr\u001b[0m\u001b[0;34m]\u001b[0m \u001b[0;34m=\u001b[0m \u001b[0mtextrank\u001b[0m\u001b[0;34m.\u001b[0m\u001b[0msummarize\u001b[0m\u001b[0;34m(\u001b[0m\u001b[0mrevised_v2\u001b[0m\u001b[0;34m.\u001b[0m\u001b[0mrevisedArticle\u001b[0m\u001b[0;34m[\u001b[0m\u001b[0;36m0\u001b[0m\u001b[0;34m]\u001b[0m\u001b[0;34m,\u001b[0m \u001b[0mk\u001b[0m\u001b[0;34m,\u001b[0m \u001b[0mverbose\u001b[0m\u001b[0;34m=\u001b[0m\u001b[0;32mTrue\u001b[0m\u001b[0;34m)\u001b[0m\u001b[0;34m\u001b[0m\u001b[0;34m\u001b[0m\u001b[0m\n\u001b[0m",
      "\u001b[0;32m~/anaconda3/envs/KCNLP/lib/python3.8/site-packages/textrankr/textrank.py\u001b[0m in \u001b[0;36msummarize\u001b[0;34m(self, text, num_sentences, verbose)\u001b[0m\n\u001b[1;32m     54\u001b[0m \u001b[0;34m\u001b[0m\u001b[0m\n\u001b[1;32m     55\u001b[0m         \u001b[0;31m# parse text\u001b[0m\u001b[0;34m\u001b[0m\u001b[0;34m\u001b[0m\u001b[0;34m\u001b[0m\u001b[0m\n\u001b[0;32m---> 56\u001b[0;31m         \u001b[0msentences\u001b[0m\u001b[0;34m:\u001b[0m \u001b[0mList\u001b[0m\u001b[0;34m[\u001b[0m\u001b[0mSentence\u001b[0m\u001b[0;34m]\u001b[0m \u001b[0;34m=\u001b[0m \u001b[0mparse_text_into_sentences\u001b[0m\u001b[0;34m(\u001b[0m\u001b[0mtext\u001b[0m\u001b[0;34m,\u001b[0m \u001b[0mself\u001b[0m\u001b[0;34m.\u001b[0m\u001b[0mtokenizer\u001b[0m\u001b[0;34m)\u001b[0m\u001b[0;34m\u001b[0m\u001b[0;34m\u001b[0m\u001b[0m\n\u001b[0m\u001b[1;32m     57\u001b[0m \u001b[0;34m\u001b[0m\u001b[0m\n\u001b[1;32m     58\u001b[0m         \u001b[0;31m# build graph\u001b[0m\u001b[0;34m\u001b[0m\u001b[0;34m\u001b[0m\u001b[0;34m\u001b[0m\u001b[0m\n",
      "\u001b[0;32m~/anaconda3/envs/KCNLP/lib/python3.8/site-packages/textrankr/utils.py\u001b[0m in \u001b[0;36mparse_text_into_sentences\u001b[0;34m(text, tokenizer)\u001b[0m\n\u001b[1;32m     33\u001b[0m \u001b[0;34m\u001b[0m\u001b[0m\n\u001b[1;32m     34\u001b[0m     \u001b[0;31m# parse text\u001b[0m\u001b[0;34m\u001b[0m\u001b[0;34m\u001b[0m\u001b[0;34m\u001b[0m\u001b[0m\n\u001b[0;32m---> 35\u001b[0;31m     \u001b[0mcandidates\u001b[0m\u001b[0;34m:\u001b[0m \u001b[0mList\u001b[0m\u001b[0;34m[\u001b[0m\u001b[0mstr\u001b[0m\u001b[0;34m]\u001b[0m \u001b[0;34m=\u001b[0m \u001b[0msplit\u001b[0m\u001b[0;34m(\u001b[0m\u001b[0;34mr'(?:(?<=[^0-9])\\.|\\n|!|\\?)'\u001b[0m\u001b[0;34m,\u001b[0m \u001b[0mtext\u001b[0m\u001b[0;34m)\u001b[0m\u001b[0;34m\u001b[0m\u001b[0;34m\u001b[0m\u001b[0m\n\u001b[0m\u001b[1;32m     36\u001b[0m     \u001b[0;32mfor\u001b[0m \u001b[0mcandidate\u001b[0m \u001b[0;32min\u001b[0m \u001b[0mcandidates\u001b[0m\u001b[0;34m:\u001b[0m\u001b[0;34m\u001b[0m\u001b[0;34m\u001b[0m\u001b[0m\n\u001b[1;32m     37\u001b[0m \u001b[0;34m\u001b[0m\u001b[0m\n",
      "\u001b[0;32m~/anaconda3/envs/KCNLP/lib/python3.8/re.py\u001b[0m in \u001b[0;36msplit\u001b[0;34m(pattern, string, maxsplit, flags)\u001b[0m\n\u001b[1;32m    227\u001b[0m     \u001b[0;32mand\u001b[0m \u001b[0mthe\u001b[0m \u001b[0mremainder\u001b[0m \u001b[0mof\u001b[0m \u001b[0mthe\u001b[0m \u001b[0mstring\u001b[0m \u001b[0;32mis\u001b[0m \u001b[0mreturned\u001b[0m \u001b[0;32mas\u001b[0m \u001b[0mthe\u001b[0m \u001b[0mfinal\u001b[0m \u001b[0melement\u001b[0m\u001b[0;34m\u001b[0m\u001b[0;34m\u001b[0m\u001b[0m\n\u001b[1;32m    228\u001b[0m     of the list.\"\"\"\n\u001b[0;32m--> 229\u001b[0;31m     \u001b[0;32mreturn\u001b[0m \u001b[0m_compile\u001b[0m\u001b[0;34m(\u001b[0m\u001b[0mpattern\u001b[0m\u001b[0;34m,\u001b[0m \u001b[0mflags\u001b[0m\u001b[0;34m)\u001b[0m\u001b[0;34m.\u001b[0m\u001b[0msplit\u001b[0m\u001b[0;34m(\u001b[0m\u001b[0mstring\u001b[0m\u001b[0;34m,\u001b[0m \u001b[0mmaxsplit\u001b[0m\u001b[0;34m)\u001b[0m\u001b[0;34m\u001b[0m\u001b[0;34m\u001b[0m\u001b[0m\n\u001b[0m\u001b[1;32m    230\u001b[0m \u001b[0;34m\u001b[0m\u001b[0m\n\u001b[1;32m    231\u001b[0m \u001b[0;32mdef\u001b[0m \u001b[0mfindall\u001b[0m\u001b[0;34m(\u001b[0m\u001b[0mpattern\u001b[0m\u001b[0;34m,\u001b[0m \u001b[0mstring\u001b[0m\u001b[0;34m,\u001b[0m \u001b[0mflags\u001b[0m\u001b[0;34m=\u001b[0m\u001b[0;36m0\u001b[0m\u001b[0;34m)\u001b[0m\u001b[0;34m:\u001b[0m\u001b[0;34m\u001b[0m\u001b[0;34m\u001b[0m\u001b[0m\n",
      "\u001b[0;31mTypeError\u001b[0m: expected string or bytes-like object"
     ]
    }
   ],
   "source": [
    "summaries: List[str] = textrank.summarize(revised_v2.revisedArticle[0], k, verbose=True)"
   ]
  },
  {
   "cell_type": "code",
   "execution_count": null,
   "metadata": {},
   "outputs": [],
   "source": [
    "for content in content_list:\n",
    "    summaries: List[str] = textrank.summarize(content, k, verbose=True)\n",
    "    result = '. '.join(summaries)\n",
    "    result_list.append(result)"
   ]
  },
  {
   "cell_type": "code",
   "execution_count": null,
   "metadata": {},
   "outputs": [],
   "source": [
    "# import pandas as pd\n",
    "# import numpy as np\n",
    "# from typing import List\n",
    "# from textrankr import TextRank\n",
    "# from konlpy.tag import Okt\n",
    "\n",
    "# class OktTokenizer:\n",
    "#     okt: Okt = Okt()\n",
    "\n",
    "#     def __call__(self, text: str) -> List[str]:\n",
    "#         tokens: List[str] = self.okt.pos(text, norm=True, stem=True, join=True)\n",
    "#         return tokens\n",
    "\n",
    "# def summarize(df):\n",
    "#     content_list = df.revisedArticle\n",
    "\n",
    "#     mytokenizer: OktTokenizer = OktTokenizer()\n",
    "#     textrank: TextRank = TextRank(mytokenizer)\n",
    "\n",
    "#     k: int = 3  # num sentences in the resulting summary\n",
    "#     result_list = []\n",
    "\n",
    "#     # if verbose = False, it returns a list\n",
    "#     for content in content_list[:5]:\n",
    "#         summaries: List[str] = textrank.summarize(content, k, verbose=False)\n",
    "#         result = '. '.join(summaries)\n",
    "#         result_list.append(result)\n",
    "\n",
    "#     # print(result_list)\n",
    "#     df['revisedArticle'] = result_list\n",
    "#     return df"
   ]
  },
  {
   "cell_type": "code",
   "execution_count": 13,
   "metadata": {},
   "outputs": [],
   "source": [
    "# revised = summarize(revised_v2.head())\n",
    "revised_v2.to_csv('data/local_data_preprocessed.csv', encoding='UTF-8-sig')"
   ]
  },
  {
   "cell_type": "code",
   "execution_count": null,
   "metadata": {},
   "outputs": [],
   "source": []
  }
 ],
 "metadata": {
  "kernelspec": {
   "display_name": "KCNLP",
   "language": "python",
   "name": "kcnlp"
  },
  "language_info": {
   "codemirror_mode": {
    "name": "ipython",
    "version": 3
   },
   "file_extension": ".py",
   "mimetype": "text/x-python",
   "name": "python",
   "nbconvert_exporter": "python",
   "pygments_lexer": "ipython3",
   "version": "3.8.0"
  }
 },
 "nbformat": 4,
 "nbformat_minor": 4
}
